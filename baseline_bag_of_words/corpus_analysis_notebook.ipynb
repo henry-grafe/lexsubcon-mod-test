{
 "cells": [
  {
   "cell_type": "code",
   "execution_count": 1,
   "metadata": {},
   "outputs": [],
   "source": [
    "import numpy as np\n",
    "from bs4 import BeautifulSoup\n",
    "import pickle\n",
    "\n",
    "#data = open(\"/home/user/Downloads/UKWAC-1_new.xml\",'r', encoding='latin5').read()\n",
    "#bs_data = BeautifulSoup(data, 'xml')\n",
    "#del data\n",
    "#pickle.dump(bs_data, open(\"UKWAC_1_BS4.pickle\", \"wb\"))\n",
    "bs_data = pickle.load(open(\"UKWAC_1_BS4.pickle\",'rb'))"
   ]
  },
  {
   "cell_type": "code",
   "execution_count": 2,
   "metadata": {},
   "outputs": [],
   "source": [
    "import nltk\n",
    "from nltk.corpus import stopwords\n",
    "\n",
    "# Create a set of stop words \n",
    "stop_words = set(stopwords.words('english')) \n",
    "stop_words = stop_words.union({\".\",\",\",\":\",\";\",\"?\",\"!\",\"#\",\"\\\"\",\"\\'\",\"(\",\")\",\"@card@\",\"I\",\"-\",\"\\'s\",\"n\\'t\",\"\",\"...\",\"[\",\"]\",\"@ord@\",\"There\",\"|\",\"To\",\"/\",\"\"})"
   ]
  },
  {
   "cell_type": "code",
   "execution_count": 4,
   "metadata": {},
   "outputs": [
    {
     "name": "stderr",
     "output_type": "stream",
     "text": [
      "100%|██████████| 110165/110165 [03:52<00:00, 473.68it/s]\n"
     ]
    }
   ],
   "source": [
    "from tqdm import tqdm\n",
    "key_words_to_invert = ['The', 'Introduction', 'Alcohol', 'Asking', 'Experience', 'Comparison', 'Reported', 'Prevalence', 'Types', 'Trends', 'Weekly', 'Estimating', 'Frequency', 'Level', '', 'Daily', 'Amounts', 'Variations', 'Males', 'Proportion', '1998', 'by', 'Models', 'A', 'Efficient', 'Lighter', 'Higher', 'Processing', 'Work', 'Additional', 'Gaining', 'Improving', 'improving', 'TWI', 'Engaging', 'Fundamental', 'Aberdeen', 'For', '3/4', 'University', 'Brighton', '4-year', 'CCC', 'Cambridge', 'Sparkling', '3', 'Well', 'Cardiff', 'Mix', 'Sheffield', 'Computer', 'ABB', 'This', 'Governments', 'Too', 'We', 'When', 'Over', 'To', 'Tony', 'Carol', 'Ros', 'Peter', 'Janet', 'Richard', 'John', 'Patricia', 'There', 'Access', 'Public', 'SMEs', 'As', 'Large', 'Their', 'Separate', 'Also', 'Starting', 'Longer', 'Reforms', 'Many', 'Proportionately', 'Several', 'An', 'Outputs', 'At', 'Class', 'Sixth-form', 'It', 'Most', 'All', 'Regular', 'Almost', 'Students', 'Senior', 'In', 'Teachers', 'Although', 'Area-wide', 'Much', 'Colleges', 'Five', 'During', 'Basic', 'National', 'Support', 'Even', 'Youth', 'NVYOs', 'Standards', 'DfES', '35.1', 'Physical', 'Improved', 'Advances', 'Commercial', '1', 'Goddard', 'Todd', 'Smith', 'Gill', 'Human', 'Her', 'Further', 'Kessel', 'Source', 'Notes', 'Being', 'Ensuring', 'Identifying', 'radiation', 'occupational', 'liaison', '2001/02', 'Outturn', 'Overall', 'Building', 'Defence', 'Following', 'MOD', 'Emphasis', 'INDUSTRIAL', '(A)', 'INDUSTRY', 'Analysis', 'Well-established', 'Good', 'Easy', 'Lack', 'Small', 'End', 'Markets', 'Decline', 'Rapid', 'Strategic', 'Focus', 'Development', 'Modelling', 'Recommendations', 'limit', 'stop', 'an', 'Part', 'any']\n",
    "unwanted_pos_tags = ['$', \"''\", '(', ')', ':','IN','LS','MD','PP','TO','VBD','VBN','WDT','WP$','WRB','``']\n",
    "texts = bs_data.find_all(\"text\")\n",
    "\n",
    "for i in range(len(texts)):\n",
    "    texts[i] = texts[i].find_all(\"s\")\n",
    "    \n",
    "for i in tqdm(range(len(texts))):\n",
    "    for j in range(len(texts[i])):\n",
    "        temp_text = texts[i][j].text.split(\"\\n\")[1:-1]\n",
    "        texts[i][j] = [[], []]\n",
    "        for k in range(len(temp_text)):\n",
    "            temp_text[k] = temp_text[k].split(\"\\t\")\n",
    "            \"\"\"\n",
    "            The part from here is to put back in \n",
    "            place some POS tags in their right place\n",
    "            \"\"\"\n",
    "            if len(temp_text[k])!=3:\n",
    "                temp_text[k] = [temp_text[k][1], temp_text[k][2], temp_text[k][4]]\n",
    "                #print(temp_text[k])\n",
    "            \n",
    "            current_pos = temp_text[k][1]\n",
    "            \n",
    "            if current_pos in key_words_to_invert:\n",
    "                temp_text[k][1] = temp_text[k][2]\n",
    "                temp_text[k][2] = current_pos\n",
    "            \n",
    "            \"\"\"\n",
    "            This part is to remove the stop words and punctuation from the set\n",
    "            \"\"\"\n",
    "            if (temp_text[k][2].lower() not in stop_words) and (temp_text[k][1] not in unwanted_pos_tags):\n",
    "                #texts[i][j][0].append(temp_text[k][0])\n",
    "                texts[i][j][0].append(temp_text[k][1])\n",
    "                texts[i][j][1].append(temp_text[k][2])\n",
    "                \n",
    "\n",
    "pickle.dump(texts, open(\"UKWAC_1_BS4_text_data_cleaned.pickle\",\"wb\"))\n",
    "\n",
    "    "
   ]
  },
  {
   "cell_type": "code",
   "execution_count": 5,
   "metadata": {},
   "outputs": [],
   "source": [
    "del bs_data"
   ]
  },
  {
   "cell_type": "code",
   "execution_count": 1,
   "metadata": {},
   "outputs": [],
   "source": [
    "import pickle\n",
    "from tqdm import tqdm\n",
    "texts = pickle.load(open(\"/home/user/Documents/KULeuven/Master Thesis/lexsubcon-mod-test/baseline_bag_of_words/UKWAC_1_BS4_text_data_cleaned.pickle\",'rb'))\n"
   ]
  },
  {
   "cell_type": "code",
   "execution_count": 6,
   "metadata": {},
   "outputs": [
    {
     "name": "stderr",
     "output_type": "stream",
     "text": [
      "  0%|          | 0/110165 [00:00<?, ?it/s]"
     ]
    },
    {
     "name": "stderr",
     "output_type": "stream",
     "text": [
      "100%|██████████| 110165/110165 [00:46<00:00, 2379.00it/s]\n"
     ]
    }
   ],
   "source": [
    "\"\"\"\n",
    "\n",
    "Vocabulary obtaining + POS conversion\n",
    "\n",
    "\"\"\"\n",
    "vocabulary = {}\n",
    "vocabulary_pos = {}\n",
    "for i_text in tqdm(range(len(texts))):\n",
    "    for j_sentence in range(len(texts[i_text])):\n",
    "        for k_word in range(len(texts[i_text][j_sentence][1])):\n",
    "            if len(texts[i_text][j_sentence]) != 2:\n",
    "                print(\"PROBLEM in data format\")\n",
    "                exit(1)\n",
    "            current_word = texts[i_text][j_sentence][1][k_word]\n",
    "            current_pos = texts[i_text][j_sentence][0][k_word]\n",
    "            current_word = current_word\n",
    "            if current_word not in vocabulary:\n",
    "                vocabulary[current_word] = 1\n",
    "            else:\n",
    "                vocabulary[current_word] += 1\n",
    "                \n",
    "            if current_pos not in vocabulary_pos:\n",
    "                vocabulary_pos[current_pos] = 1\n",
    "            else:\n",
    "                vocabulary_pos[current_pos] += 1"
   ]
  },
  {
   "cell_type": "code",
   "execution_count": 7,
   "metadata": {},
   "outputs": [
    {
     "name": "stdout",
     "output_type": "stream",
     "text": [
      "Size of vocabulary : 1181702 (excluding stop words)\n",
      "\n",
      "----- Most frequent words in the vocabulary -----\n",
      "\n",
      "1\t\"\"use\"\" : 192885\n",
      "2\t\"\"make\"\" : 169935\n",
      "3\t\"\"work\"\" : 156543\n",
      "4\t\"\"one\"\" : 149868\n",
      "5\t\"\"also\"\" : 143105\n",
      "6\t\"\"year\"\" : 143103\n",
      "7\t\"\"time\"\" : 135197\n",
      "8\t\"\"take\"\" : 128222\n",
      "9\t\"\"good\"\" : 121262\n",
      "10\t\"\"new\"\" : 116554\n",
      "\n",
      "\n",
      "--------------------------------------------------------\n",
      "\n",
      "\n",
      "Size of POS vocabulary : 25\n",
      "All possible POS list : ['NNS', 'JJ', 'NN', 'NP', 'VVD', 'VVP', 'CD', 'RB', 'VVN', 'VVZ', 'PDT', 'VVG', 'VV', 'JJS', 'DT', 'JJR', 'RBS', 'RBR', 'RP', 'CC', 'NPS', 'SYM', 'FW', 'UH', 'WP'] \n",
      "\n",
      "\n",
      "\n",
      "----- Most frequent POS in the vocabulary -----\n",
      "\n",
      "1\t\"\"NN\"\" : 13156275\n",
      "2\t\"\"NP\"\" : 9485255\n",
      "3\t\"\"JJ\"\" : 5590429\n",
      "4\t\"\"NNS\"\" : 5007844\n",
      "5\t\"\"VV\"\" : 2402351\n",
      "6\t\"\"VVN\"\" : 1974174\n",
      "7\t\"\"RB\"\" : 1835151\n",
      "8\t\"\"VVG\"\" : 1432667\n",
      "9\t\"\"VVD\"\" : 943073\n",
      "10\t\"\"VVZ\"\" : 748623\n"
     ]
    }
   ],
   "source": [
    "import numpy as np\n",
    "\"\"\"\n",
    "\n",
    "Cell for Vocabulary Vizualization\n",
    "\n",
    "\"\"\"\n",
    "print(f\"Size of vocabulary : {len(vocabulary)} (excluding stop words)\")\n",
    "counts = list(vocabulary.values())\n",
    "index_counts_sorted = np.flip(np.argsort(counts))\n",
    "words = list(vocabulary.keys())\n",
    "print(\"\\n----- Most frequent words in the vocabulary -----\\n\")\n",
    "for i in range(10):\n",
    "    index = int(index_counts_sorted[i])\n",
    "    print(f\"{i+1}\\t\\\"\\\"{words[index]}\\\"\\\" : {counts[index]}\")\n",
    "\n",
    "print(\"\\n\\n--------------------------------------------------------\\n\\n\")\n",
    "\n",
    "print(f\"Size of POS vocabulary : {len(vocabulary_pos)}\")\n",
    "counts_pos = list(vocabulary_pos.values())\n",
    "index_counts_pos_sorted = np.flip(np.argsort(counts_pos))\n",
    "pos = list(vocabulary_pos.keys())\n",
    "print(f\"All possible POS list : {pos} \\n\\n\")\n",
    "print(\"\\n----- Most frequent POS in the vocabulary -----\\n\")\n",
    "for i in range(10):\n",
    "    index = int(index_counts_pos_sorted[i])\n",
    "    print(f\"{i+1}\\t\\\"\\\"{pos[index]}\\\"\\\" : {counts_pos[index]}\")"
   ]
  }
 ],
 "metadata": {
  "kernelspec": {
   "display_name": "test-env-newgpu-python39",
   "language": "python",
   "name": "python3"
  },
  "language_info": {
   "codemirror_mode": {
    "name": "ipython",
    "version": 3
   },
   "file_extension": ".py",
   "mimetype": "text/x-python",
   "name": "python",
   "nbconvert_exporter": "python",
   "pygments_lexer": "ipython3",
   "version": "3.9.18"
  }
 },
 "nbformat": 4,
 "nbformat_minor": 2
}
