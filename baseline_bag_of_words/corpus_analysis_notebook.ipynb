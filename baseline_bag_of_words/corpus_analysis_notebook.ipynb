{
 "cells": [
  {
   "cell_type": "code",
   "execution_count": 1,
   "metadata": {},
   "outputs": [],
   "source": [
    "import numpy as np\n",
    "from bs4 import BeautifulSoup\n",
    "import pickle\n",
    "\n",
    "#data = open(\"/home/user/Downloads/UKWAC-1_new.xml\",'r', encoding='latin5').read()\n",
    "#bs_data = BeautifulSoup(data, 'xml')\n",
    "#del data\n",
    "#pickle.dump(bs_data, open(\"UKWAC_1_BS4.pickle\", \"wb\"))\n",
    "bs_data = pickle.load(open(\"UKWAC_1_BS4.pickle\",'rb'))"
   ]
  },
  {
   "cell_type": "code",
   "execution_count": 2,
   "metadata": {},
   "outputs": [],
   "source": [
    "import nltk\n",
    "from nltk.corpus import stopwords\n",
    "\n",
    "# Create a set of stop words \n",
    "stop_words = set(stopwords.words('english')) \n",
    "stop_words = stop_words.union({\".\",\",\",\":\",\";\",\"?\",\"!\",\"#\",\"\\\"\",\"\\'\",\"(\",\")\"})"
   ]
  },
  {
   "cell_type": "code",
   "execution_count": 3,
   "metadata": {},
   "outputs": [
    {
     "name": "stderr",
     "output_type": "stream",
     "text": [
      "100%|██████████| 110165/110165 [01:24<00:00, 1303.66it/s]\n"
     ]
    }
   ],
   "source": [
    "from tqdm import tqdm\n",
    "\n",
    "texts = bs_data.find_all(\"text\")\n",
    "\n",
    "for i in range(len(texts)):\n",
    "    texts[i] = texts[i].find_all(\"s\")\n",
    "    \n",
    "for i in tqdm(range(len(texts))):\n",
    "    for j in range(len(texts[i])):\n",
    "        temp_text = texts[i][j].text.split(\"\\n\")[1:-1]\n",
    "        texts[i][j] = [[], []]\n",
    "        for k in range(len(temp_text)):\n",
    "            temp_text[k] = temp_text[k].split(\"\\t\")\n",
    "            if temp_text[k][2] not in stop_words:\n",
    "                #texts[i][j][0].append(temp_text[k][0])\n",
    "                texts[i][j][0].append(temp_text[k][1])\n",
    "                texts[i][j][1].append(temp_text[k][2])\n",
    "\n",
    "pickle.dump(texts, open(\"UKWAC_1_BS4_text_data_cleaned.pickle\",\"wb\"))\n",
    "\n",
    "    "
   ]
  },
  {
   "cell_type": "code",
   "execution_count": 2,
   "metadata": {},
   "outputs": [],
   "source": [
    "import pickle\n",
    "texts = pickle.load(open(\"/home/user/Documents/KULeuven/Master Thesis/lexsubcon-mod-test/baseline_bag_of_words/UKWAC_1_BS4_text_data_cleaned.pickle\",'rb'))\n"
   ]
  },
  {
   "cell_type": "code",
   "execution_count": 4,
   "metadata": {},
   "outputs": [],
   "source": [
    "del bs_data"
   ]
  },
  {
   "cell_type": "code",
   "execution_count": null,
   "metadata": {},
   "outputs": [],
   "source": []
  }
 ],
 "metadata": {
  "kernelspec": {
   "display_name": "test-env-newgpu-python39",
   "language": "python",
   "name": "python3"
  },
  "language_info": {
   "codemirror_mode": {
    "name": "ipython",
    "version": 3
   },
   "file_extension": ".py",
   "mimetype": "text/x-python",
   "name": "python",
   "nbconvert_exporter": "python",
   "pygments_lexer": "ipython3",
   "version": "3.9.18"
  }
 },
 "nbformat": 4,
 "nbformat_minor": 2
}
